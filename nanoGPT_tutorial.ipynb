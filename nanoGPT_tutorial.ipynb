{
  "nbformat": 4,
  "nbformat_minor": 0,
  "metadata": {
    "colab": {
      "provenance": [],
      "toc_visible": true,
      "authorship_tag": "ABX9TyMYkA+oB5fqSSwZgXs3PXbB",
      "include_colab_link": true
    },
    "kernelspec": {
      "name": "python3",
      "display_name": "Python 3"
    },
    "language_info": {
      "name": "python"
    }
  },
  "cells": [
    {
      "cell_type": "markdown",
      "metadata": {
        "id": "view-in-github",
        "colab_type": "text"
      },
      "source": [
        "<a href=\"https://colab.research.google.com/github/NainaniJatinZ/GPTfromScratch/blob/main/nanoGPT_tutorial.ipynb\" target=\"_parent\"><img src=\"https://colab.research.google.com/assets/colab-badge.svg\" alt=\"Open In Colab\"/></a>"
      ]
    },
    {
      "cell_type": "code",
      "execution_count": null,
      "metadata": {
        "id": "cyTKhLnldm1s",
        "colab": {
          "base_uri": "https://localhost:8080/"
        },
        "outputId": "2dd7527f-f9ef-4835-db8f-e156078e61fe"
      },
      "outputs": [
        {
          "output_type": "stream",
          "name": "stdout",
          "text": [
            "--2023-07-05 13:00:32--  https://raw.githubusercontent.com/karpathy/char-rnn/master/data/tinyshakespeare/input.txt\n",
            "Resolving raw.githubusercontent.com (raw.githubusercontent.com)... 185.199.111.133, 185.199.108.133, 185.199.110.133, ...\n",
            "Connecting to raw.githubusercontent.com (raw.githubusercontent.com)|185.199.111.133|:443... connected.\n",
            "HTTP request sent, awaiting response... 200 OK\n",
            "Length: 1115394 (1.1M) [text/plain]\n",
            "Saving to: ‘input.txt’\n",
            "\n",
            "\rinput.txt             0%[                    ]       0  --.-KB/s               \rinput.txt           100%[===================>]   1.06M  --.-KB/s    in 0.05s   \n",
            "\n",
            "2023-07-05 13:00:32 (20.5 MB/s) - ‘input.txt’ saved [1115394/1115394]\n",
            "\n"
          ]
        }
      ],
      "source": [
        "# We always start with a dataset to train on. Let's download the tiny shakespeare dataset\n",
        "!wget https://raw.githubusercontent.com/karpathy/char-rnn/master/data/tinyshakespeare/input.txt"
      ]
    },
    {
      "cell_type": "code",
      "source": [
        "# read it in to inspect it\n",
        "with open('input.txt', 'r', encoding='utf-8') as f:\n",
        "    text = f.read()"
      ],
      "metadata": {
        "id": "mqEYLIT8hL5e"
      },
      "execution_count": null,
      "outputs": []
    },
    {
      "cell_type": "code",
      "source": [
        "print(\"length of dataset in characters: \", len(text))\n",
        "\n",
        "# let's look at the first 1000 characters\n",
        "print(text[:1000])"
      ],
      "metadata": {
        "colab": {
          "base_uri": "https://localhost:8080/"
        },
        "id": "j1WnLrOfhSHR",
        "outputId": "2df2afca-35a8-4c3f-993d-c2bbb331cd41"
      },
      "execution_count": null,
      "outputs": [
        {
          "output_type": "stream",
          "name": "stdout",
          "text": [
            "length of dataset in characters:  1115394\n",
            "First Citizen:\n",
            "Before we proceed any further, hear me speak.\n",
            "\n",
            "All:\n",
            "Speak, speak.\n",
            "\n",
            "First Citizen:\n",
            "You are all resolved rather to die than to famish?\n",
            "\n",
            "All:\n",
            "Resolved. resolved.\n",
            "\n",
            "First Citizen:\n",
            "First, you know Caius Marcius is chief enemy to the people.\n",
            "\n",
            "All:\n",
            "We know't, we know't.\n",
            "\n",
            "First Citizen:\n",
            "Let us kill him, and we'll have corn at our own price.\n",
            "Is't a verdict?\n",
            "\n",
            "All:\n",
            "No more talking on't; let it be done: away, away!\n",
            "\n",
            "Second Citizen:\n",
            "One word, good citizens.\n",
            "\n",
            "First Citizen:\n",
            "We are accounted poor citizens, the patricians good.\n",
            "What authority surfeits on would relieve us: if they\n",
            "would yield us but the superfluity, while it were\n",
            "wholesome, we might guess they relieved us humanely;\n",
            "but they think we are too dear: the leanness that\n",
            "afflicts us, the object of our misery, is as an\n",
            "inventory to particularise their abundance; our\n",
            "sufferance is a gain to them Let us revenge this with\n",
            "our pikes, ere we become rakes: for the gods know I\n",
            "speak this in hunger for bread, not in thirst for revenge.\n",
            "\n",
            "\n"
          ]
        }
      ]
    },
    {
      "cell_type": "code",
      "source": [
        "# here are all the unique characters that occur in this text\n",
        "chars = sorted(list(set(text)))\n",
        "vocab_size = len(chars)\n",
        "print(''.join(chars))\n",
        "print(vocab_size)"
      ],
      "metadata": {
        "colab": {
          "base_uri": "https://localhost:8080/"
        },
        "id": "thY2_t6YhZC2",
        "outputId": "da22585a-1363-46f8-f61c-c4e8d0b609b7"
      },
      "execution_count": null,
      "outputs": [
        {
          "output_type": "stream",
          "name": "stdout",
          "text": [
            "\n",
            " !$&',-.3:;?ABCDEFGHIJKLMNOPQRSTUVWXYZabcdefghijklmnopqrstuvwxyz\n",
            "65\n"
          ]
        }
      ]
    },
    {
      "cell_type": "code",
      "source": [
        "# create a mapping from characters to integers\n",
        "stoi = { ch:i for i,ch in enumerate(chars) }\n",
        "itos = { i:ch for i,ch in enumerate(chars) }\n",
        "encode = lambda s: [stoi[c] for c in s] # encoder: take a string, output a list of integers\n",
        "decode = lambda l: ''.join([itos[i] for i in l]) # decoder: take a list of integers, output a string\n",
        "\n",
        "print(encode(\"hii there\"))\n",
        "print(decode(encode(\"hii there\")))"
      ],
      "metadata": {
        "colab": {
          "base_uri": "https://localhost:8080/"
        },
        "id": "3QwE2Rp7iJDT",
        "outputId": "8dbd06c1-5a65-4201-8940-0eb522477edb"
      },
      "execution_count": null,
      "outputs": [
        {
          "output_type": "stream",
          "name": "stdout",
          "text": [
            "[46, 47, 47, 1, 58, 46, 43, 56, 43]\n",
            "hii there\n"
          ]
        }
      ]
    },
    {
      "cell_type": "code",
      "source": [
        "# let's now encode the entire text dataset and store it into a torch.Tensor\n",
        "import torch # we use PyTorch: https://pytorch.org\n",
        "data = torch.tensor(encode(text), dtype=torch.long)\n",
        "print(data.shape, data.dtype)\n",
        "print(data[:1000]) # the 1000 characters we looked at earier will to the GPT look like this"
      ],
      "metadata": {
        "colab": {
          "base_uri": "https://localhost:8080/"
        },
        "id": "7gvj6itPikDv",
        "outputId": "d8976711-02cf-42ee-a512-9ca374d23a40"
      },
      "execution_count": null,
      "outputs": [
        {
          "output_type": "stream",
          "name": "stdout",
          "text": [
            "torch.Size([1115394]) torch.int64\n",
            "tensor([18, 47, 56, 57, 58,  1, 15, 47, 58, 47, 64, 43, 52, 10,  0, 14, 43, 44,\n",
            "        53, 56, 43,  1, 61, 43,  1, 54, 56, 53, 41, 43, 43, 42,  1, 39, 52, 63,\n",
            "         1, 44, 59, 56, 58, 46, 43, 56,  6,  1, 46, 43, 39, 56,  1, 51, 43,  1,\n",
            "        57, 54, 43, 39, 49,  8,  0,  0, 13, 50, 50, 10,  0, 31, 54, 43, 39, 49,\n",
            "         6,  1, 57, 54, 43, 39, 49,  8,  0,  0, 18, 47, 56, 57, 58,  1, 15, 47,\n",
            "        58, 47, 64, 43, 52, 10,  0, 37, 53, 59,  1, 39, 56, 43,  1, 39, 50, 50,\n",
            "         1, 56, 43, 57, 53, 50, 60, 43, 42,  1, 56, 39, 58, 46, 43, 56,  1, 58,\n",
            "        53,  1, 42, 47, 43,  1, 58, 46, 39, 52,  1, 58, 53,  1, 44, 39, 51, 47,\n",
            "        57, 46, 12,  0,  0, 13, 50, 50, 10,  0, 30, 43, 57, 53, 50, 60, 43, 42,\n",
            "         8,  1, 56, 43, 57, 53, 50, 60, 43, 42,  8,  0,  0, 18, 47, 56, 57, 58,\n",
            "         1, 15, 47, 58, 47, 64, 43, 52, 10,  0, 18, 47, 56, 57, 58,  6,  1, 63,\n",
            "        53, 59,  1, 49, 52, 53, 61,  1, 15, 39, 47, 59, 57,  1, 25, 39, 56, 41,\n",
            "        47, 59, 57,  1, 47, 57,  1, 41, 46, 47, 43, 44,  1, 43, 52, 43, 51, 63,\n",
            "         1, 58, 53,  1, 58, 46, 43,  1, 54, 43, 53, 54, 50, 43,  8,  0,  0, 13,\n",
            "        50, 50, 10,  0, 35, 43,  1, 49, 52, 53, 61,  5, 58,  6,  1, 61, 43,  1,\n",
            "        49, 52, 53, 61,  5, 58,  8,  0,  0, 18, 47, 56, 57, 58,  1, 15, 47, 58,\n",
            "        47, 64, 43, 52, 10,  0, 24, 43, 58,  1, 59, 57,  1, 49, 47, 50, 50,  1,\n",
            "        46, 47, 51,  6,  1, 39, 52, 42,  1, 61, 43,  5, 50, 50,  1, 46, 39, 60,\n",
            "        43,  1, 41, 53, 56, 52,  1, 39, 58,  1, 53, 59, 56,  1, 53, 61, 52,  1,\n",
            "        54, 56, 47, 41, 43,  8,  0, 21, 57,  5, 58,  1, 39,  1, 60, 43, 56, 42,\n",
            "        47, 41, 58, 12,  0,  0, 13, 50, 50, 10,  0, 26, 53,  1, 51, 53, 56, 43,\n",
            "         1, 58, 39, 50, 49, 47, 52, 45,  1, 53, 52,  5, 58, 11,  1, 50, 43, 58,\n",
            "         1, 47, 58,  1, 40, 43,  1, 42, 53, 52, 43, 10,  1, 39, 61, 39, 63,  6,\n",
            "         1, 39, 61, 39, 63,  2,  0,  0, 31, 43, 41, 53, 52, 42,  1, 15, 47, 58,\n",
            "        47, 64, 43, 52, 10,  0, 27, 52, 43,  1, 61, 53, 56, 42,  6,  1, 45, 53,\n",
            "        53, 42,  1, 41, 47, 58, 47, 64, 43, 52, 57,  8,  0,  0, 18, 47, 56, 57,\n",
            "        58,  1, 15, 47, 58, 47, 64, 43, 52, 10,  0, 35, 43,  1, 39, 56, 43,  1,\n",
            "        39, 41, 41, 53, 59, 52, 58, 43, 42,  1, 54, 53, 53, 56,  1, 41, 47, 58,\n",
            "        47, 64, 43, 52, 57,  6,  1, 58, 46, 43,  1, 54, 39, 58, 56, 47, 41, 47,\n",
            "        39, 52, 57,  1, 45, 53, 53, 42,  8,  0, 35, 46, 39, 58,  1, 39, 59, 58,\n",
            "        46, 53, 56, 47, 58, 63,  1, 57, 59, 56, 44, 43, 47, 58, 57,  1, 53, 52,\n",
            "         1, 61, 53, 59, 50, 42,  1, 56, 43, 50, 47, 43, 60, 43,  1, 59, 57, 10,\n",
            "         1, 47, 44,  1, 58, 46, 43, 63,  0, 61, 53, 59, 50, 42,  1, 63, 47, 43,\n",
            "        50, 42,  1, 59, 57,  1, 40, 59, 58,  1, 58, 46, 43,  1, 57, 59, 54, 43,\n",
            "        56, 44, 50, 59, 47, 58, 63,  6,  1, 61, 46, 47, 50, 43,  1, 47, 58,  1,\n",
            "        61, 43, 56, 43,  0, 61, 46, 53, 50, 43, 57, 53, 51, 43,  6,  1, 61, 43,\n",
            "         1, 51, 47, 45, 46, 58,  1, 45, 59, 43, 57, 57,  1, 58, 46, 43, 63,  1,\n",
            "        56, 43, 50, 47, 43, 60, 43, 42,  1, 59, 57,  1, 46, 59, 51, 39, 52, 43,\n",
            "        50, 63, 11,  0, 40, 59, 58,  1, 58, 46, 43, 63,  1, 58, 46, 47, 52, 49,\n",
            "         1, 61, 43,  1, 39, 56, 43,  1, 58, 53, 53,  1, 42, 43, 39, 56, 10,  1,\n",
            "        58, 46, 43,  1, 50, 43, 39, 52, 52, 43, 57, 57,  1, 58, 46, 39, 58,  0,\n",
            "        39, 44, 44, 50, 47, 41, 58, 57,  1, 59, 57,  6,  1, 58, 46, 43,  1, 53,\n",
            "        40, 48, 43, 41, 58,  1, 53, 44,  1, 53, 59, 56,  1, 51, 47, 57, 43, 56,\n",
            "        63,  6,  1, 47, 57,  1, 39, 57,  1, 39, 52,  0, 47, 52, 60, 43, 52, 58,\n",
            "        53, 56, 63,  1, 58, 53,  1, 54, 39, 56, 58, 47, 41, 59, 50, 39, 56, 47,\n",
            "        57, 43,  1, 58, 46, 43, 47, 56,  1, 39, 40, 59, 52, 42, 39, 52, 41, 43,\n",
            "        11,  1, 53, 59, 56,  0, 57, 59, 44, 44, 43, 56, 39, 52, 41, 43,  1, 47,\n",
            "        57,  1, 39,  1, 45, 39, 47, 52,  1, 58, 53,  1, 58, 46, 43, 51,  1, 24,\n",
            "        43, 58,  1, 59, 57,  1, 56, 43, 60, 43, 52, 45, 43,  1, 58, 46, 47, 57,\n",
            "         1, 61, 47, 58, 46,  0, 53, 59, 56,  1, 54, 47, 49, 43, 57,  6,  1, 43,\n",
            "        56, 43,  1, 61, 43,  1, 40, 43, 41, 53, 51, 43,  1, 56, 39, 49, 43, 57,\n",
            "        10,  1, 44, 53, 56,  1, 58, 46, 43,  1, 45, 53, 42, 57,  1, 49, 52, 53,\n",
            "        61,  1, 21,  0, 57, 54, 43, 39, 49,  1, 58, 46, 47, 57,  1, 47, 52,  1,\n",
            "        46, 59, 52, 45, 43, 56,  1, 44, 53, 56,  1, 40, 56, 43, 39, 42,  6,  1,\n",
            "        52, 53, 58,  1, 47, 52,  1, 58, 46, 47, 56, 57, 58,  1, 44, 53, 56,  1,\n",
            "        56, 43, 60, 43, 52, 45, 43,  8,  0,  0])\n"
          ]
        }
      ]
    },
    {
      "cell_type": "code",
      "source": [
        "# Let's now split up the data into train and validation sets\n",
        "n = int(0.9*len(data)) # first 90% will be train, rest val\n",
        "train_data = data[:n]\n",
        "val_data = data[n:]"
      ],
      "metadata": {
        "id": "Toz46g2yjYWB"
      },
      "execution_count": null,
      "outputs": []
    },
    {
      "cell_type": "code",
      "source": [
        "block_size = 8\n",
        "train_data[:block_size+1]"
      ],
      "metadata": {
        "colab": {
          "base_uri": "https://localhost:8080/"
        },
        "id": "9QNR4OIbjy0L",
        "outputId": "f85249ad-4c06-4c28-9b8f-f757ca95c0f1"
      },
      "execution_count": null,
      "outputs": [
        {
          "output_type": "execute_result",
          "data": {
            "text/plain": [
              "tensor([18, 47, 56, 57, 58,  1, 15, 47, 58])"
            ]
          },
          "metadata": {},
          "execution_count": 8
        }
      ]
    },
    {
      "cell_type": "code",
      "source": [
        "x = train_data[:block_size]\n",
        "y = train_data[1:block_size+1]\n",
        "for i in range(block_size):\n",
        "    context = x[:i+1]\n",
        "    target = y[i]\n",
        "    print(f\"Input: {context}, Target: {target}\")"
      ],
      "metadata": {
        "colab": {
          "base_uri": "https://localhost:8080/"
        },
        "id": "BcX0jTX5kCL0",
        "outputId": "b5f018a9-c147-4a29-d3a2-c919a4d4be32"
      },
      "execution_count": null,
      "outputs": [
        {
          "output_type": "stream",
          "name": "stdout",
          "text": [
            "Input: tensor([18]), Target: 47\n",
            "Input: tensor([18, 47]), Target: 56\n",
            "Input: tensor([18, 47, 56]), Target: 57\n",
            "Input: tensor([18, 47, 56, 57]), Target: 58\n",
            "Input: tensor([18, 47, 56, 57, 58]), Target: 1\n",
            "Input: tensor([18, 47, 56, 57, 58,  1]), Target: 15\n",
            "Input: tensor([18, 47, 56, 57, 58,  1, 15]), Target: 47\n",
            "Input: tensor([18, 47, 56, 57, 58,  1, 15, 47]), Target: 58\n"
          ]
        }
      ]
    },
    {
      "cell_type": "code",
      "source": [
        "torch.manual_seed(1337)\n",
        "batch_size = 4 # how many independent sequences will we process in parallel?\n",
        "block_size = 8 # what is the maximum context length for predictions?\n",
        "\n",
        "def get_batch(split):\n",
        "    # generate a small batch of data of inputs x and targets y\n",
        "    data = train_data if split == 'train' else val_data\n",
        "    ix = torch.randint(len(data) - block_size, (batch_size,))\n",
        "    x = torch.stack([data[i:i+block_size] for i in ix])\n",
        "    y = torch.stack([data[i+1:i+block_size+1] for i in ix])\n",
        "    return x, y\n",
        "\n",
        "xb, yb = get_batch('train')\n",
        "print('inputs:')\n",
        "print(xb.shape)\n",
        "print(xb)\n",
        "print('targets:')\n",
        "print(yb.shape)\n",
        "print(yb)\n",
        "\n",
        "print('----')\n",
        "\n",
        "for b in range(batch_size): # batch dimension\n",
        "    for t in range(block_size): # time dimension\n",
        "        context = xb[b, :t+1]\n",
        "        target = yb[b,t]\n",
        "        print(f\"when input is {context.tolist()} the target: {target}\")"
      ],
      "metadata": {
        "colab": {
          "base_uri": "https://localhost:8080/"
        },
        "id": "jobBulDSlovi",
        "outputId": "2493005e-7ca8-42a7-ca24-3f7aee19c487"
      },
      "execution_count": null,
      "outputs": [
        {
          "output_type": "stream",
          "name": "stdout",
          "text": [
            "inputs:\n",
            "torch.Size([4, 8])\n",
            "tensor([[24, 43, 58,  5, 57,  1, 46, 43],\n",
            "        [44, 53, 56,  1, 58, 46, 39, 58],\n",
            "        [52, 58,  1, 58, 46, 39, 58,  1],\n",
            "        [25, 17, 27, 10,  0, 21,  1, 54]])\n",
            "targets:\n",
            "torch.Size([4, 8])\n",
            "tensor([[43, 58,  5, 57,  1, 46, 43, 39],\n",
            "        [53, 56,  1, 58, 46, 39, 58,  1],\n",
            "        [58,  1, 58, 46, 39, 58,  1, 46],\n",
            "        [17, 27, 10,  0, 21,  1, 54, 39]])\n",
            "----\n",
            "when input is [24] the target: 43\n",
            "when input is [24, 43] the target: 58\n",
            "when input is [24, 43, 58] the target: 5\n",
            "when input is [24, 43, 58, 5] the target: 57\n",
            "when input is [24, 43, 58, 5, 57] the target: 1\n",
            "when input is [24, 43, 58, 5, 57, 1] the target: 46\n",
            "when input is [24, 43, 58, 5, 57, 1, 46] the target: 43\n",
            "when input is [24, 43, 58, 5, 57, 1, 46, 43] the target: 39\n",
            "when input is [44] the target: 53\n",
            "when input is [44, 53] the target: 56\n",
            "when input is [44, 53, 56] the target: 1\n",
            "when input is [44, 53, 56, 1] the target: 58\n",
            "when input is [44, 53, 56, 1, 58] the target: 46\n",
            "when input is [44, 53, 56, 1, 58, 46] the target: 39\n",
            "when input is [44, 53, 56, 1, 58, 46, 39] the target: 58\n",
            "when input is [44, 53, 56, 1, 58, 46, 39, 58] the target: 1\n",
            "when input is [52] the target: 58\n",
            "when input is [52, 58] the target: 1\n",
            "when input is [52, 58, 1] the target: 58\n",
            "when input is [52, 58, 1, 58] the target: 46\n",
            "when input is [52, 58, 1, 58, 46] the target: 39\n",
            "when input is [52, 58, 1, 58, 46, 39] the target: 58\n",
            "when input is [52, 58, 1, 58, 46, 39, 58] the target: 1\n",
            "when input is [52, 58, 1, 58, 46, 39, 58, 1] the target: 46\n",
            "when input is [25] the target: 17\n",
            "when input is [25, 17] the target: 27\n",
            "when input is [25, 17, 27] the target: 10\n",
            "when input is [25, 17, 27, 10] the target: 0\n",
            "when input is [25, 17, 27, 10, 0] the target: 21\n",
            "when input is [25, 17, 27, 10, 0, 21] the target: 1\n",
            "when input is [25, 17, 27, 10, 0, 21, 1] the target: 54\n",
            "when input is [25, 17, 27, 10, 0, 21, 1, 54] the target: 39\n"
          ]
        }
      ]
    },
    {
      "cell_type": "code",
      "source": [
        "print(xb) #input"
      ],
      "metadata": {
        "colab": {
          "base_uri": "https://localhost:8080/"
        },
        "id": "5G8DpCdTmi_E",
        "outputId": "eefb4ef9-a9f3-44b3-a7fc-7496344ab96b"
      },
      "execution_count": null,
      "outputs": [
        {
          "output_type": "stream",
          "name": "stdout",
          "text": [
            "tensor([[24, 43, 58,  5, 57,  1, 46, 43],\n",
            "        [44, 53, 56,  1, 58, 46, 39, 58],\n",
            "        [52, 58,  1, 58, 46, 39, 58,  1],\n",
            "        [25, 17, 27, 10,  0, 21,  1, 54]])\n"
          ]
        }
      ]
    },
    {
      "cell_type": "code",
      "source": [
        "print(yb)"
      ],
      "metadata": {
        "colab": {
          "base_uri": "https://localhost:8080/"
        },
        "id": "7EP1ICMLtFkH",
        "outputId": "8c5136f6-f891-4cae-f4ed-695ea968aeab"
      },
      "execution_count": null,
      "outputs": [
        {
          "output_type": "stream",
          "name": "stdout",
          "text": [
            "tensor([[43, 58,  5, 57,  1, 46, 43, 39],\n",
            "        [53, 56,  1, 58, 46, 39, 58,  1],\n",
            "        [58,  1, 58, 46, 39, 58,  1, 46],\n",
            "        [17, 27, 10,  0, 21,  1, 54, 39]])\n"
          ]
        }
      ]
    },
    {
      "cell_type": "markdown",
      "source": [
        "# Bigram"
      ],
      "metadata": {
        "id": "_q28ayg1n9zU"
      }
    },
    {
      "cell_type": "code",
      "source": [
        "import torch\n",
        "import torch.nn as nn\n",
        "from torch.nn import functional as F\n",
        "torch.manual_seed(1337)\n",
        "\n",
        "class BigramLanguageModel(nn.Module):\n",
        "\n",
        "    def __init__(self, vocab_size):\n",
        "        super().__init__()\n",
        "        # each token directly reads off the logits for the next token from a lookup table\n",
        "        # creates a lookup table of size (65, 65) so\n",
        "        # it can hold embeddings for 65 tokens each of dimensionality 65\n",
        "        # index of 24 will pluck out 24th row\n",
        "        self.token_embedding_table = nn.Embedding(vocab_size, vocab_size)\n",
        "\n",
        "    def forward(self, idx, targets=None):\n",
        "\n",
        "        # idx and targets are both (B, T) tensor of integers\n",
        "        logits = self.token_embedding_table(idx)  # (B,T,C) (Batch, Time, Channel) (4, 8, 65)\n",
        "\n",
        "        if targets is None:\n",
        "            loss = None\n",
        "        else:\n",
        "            B, T, C = logits.shape\n",
        "            logits = logits.view(B*T, C)\n",
        "            targets = targets.view(B*T)\n",
        "            loss = F.cross_entropy(logits, targets)\n",
        "\n",
        "        return logits, loss\n",
        "\n",
        "    def generate(self, idx, max_new_tokens):\n",
        "        # idx is (B, T) array of indices in current context\n",
        "        for _ in range(max_new_tokens):\n",
        "            # predictions\n",
        "            logits, loss = self(idx)\n",
        "            # focus on last time step for bigram\n",
        "            logits = logits[:, -1, :]  # (B, C)\n",
        "            # softmax for probabilities\n",
        "            probs = F.softmax(logits, dim=-1) # (B, C)\n",
        "            # sample from distribution\n",
        "            idx_next = torch.multinomial(probs, num_samples=1) # (B, 1)\n",
        "            # append sampled index to running seq\n",
        "            idx = torch.cat((idx, idx_next), dim=-1) # (B, T+1)\n",
        "        return idx\n",
        "\n",
        "\n",
        "m = BigramLanguageModel(vocab_size)\n",
        "logits, loss = m(xb, yb)\n",
        "print(logits.shape)\n",
        "print(loss)\n",
        "print(decode(m.generate(torch.zeros((1,1), dtype=torch.long), max_new_tokens=100)[0].tolist()))"
      ],
      "metadata": {
        "colab": {
          "base_uri": "https://localhost:8080/"
        },
        "id": "pmWk5Ehln6cu",
        "outputId": "3e146b6d-e1f5-4ad1-a13e-cd35860c1e1f"
      },
      "execution_count": null,
      "outputs": [
        {
          "output_type": "stream",
          "name": "stdout",
          "text": [
            "torch.Size([32, 65])\n",
            "tensor(4.8786, grad_fn=<NllLossBackward0>)\n",
            "\n",
            "Sr?qP-QWktXoL&jLDJgOLVz'RIoDqHdhsV&vLLxatjscMpwLERSPyao.qfzs$Ys$zF-w,;eEkzxjgCKFChs!iWW.ObzDnxA Ms$3\n"
          ]
        }
      ]
    },
    {
      "cell_type": "code",
      "source": [
        "# pytorch optimizer\n",
        "optimizer = torch.optim.AdamW(m.parameters(), lr=1e-3)"
      ],
      "metadata": {
        "id": "Z7HV1ZXm8Nt_"
      },
      "execution_count": null,
      "outputs": []
    },
    {
      "cell_type": "code",
      "source": [
        "batch_size = 32\n",
        "for steps in range(10000): # increase number of steps for good results...\n",
        "\n",
        "    # sample a batch of data\n",
        "    xb, yb = get_batch('train')\n",
        "\n",
        "    # evaluate the loss\n",
        "    logits, loss = m(xb, yb)\n",
        "    optimizer.zero_grad(set_to_none=True)\n",
        "    loss.backward()\n",
        "    optimizer.step()\n",
        "\n",
        "print(loss.item())"
      ],
      "metadata": {
        "colab": {
          "base_uri": "https://localhost:8080/"
        },
        "id": "r07Dy1hW8942",
        "outputId": "19127c1d-9eac-44f0-f975-fe9e160ec312"
      },
      "execution_count": null,
      "outputs": [
        {
          "output_type": "stream",
          "name": "stdout",
          "text": [
            "2.5727508068084717\n"
          ]
        }
      ]
    },
    {
      "cell_type": "code",
      "source": [
        "print(decode(m.generate(torch.zeros((1,1), dtype=torch.long), max_new_tokens=500)[0].tolist()))"
      ],
      "metadata": {
        "colab": {
          "base_uri": "https://localhost:8080/"
        },
        "id": "w0mBZUk09WQ3",
        "outputId": "bb2b00a8-c036-4b62-ac7f-6085ab8f1e05"
      },
      "execution_count": null,
      "outputs": [
        {
          "output_type": "stream",
          "name": "stdout",
          "text": [
            "\n",
            "Iyoteng h hasbe pave pirance\n",
            "Rie hicomyonthar's\n",
            "Plinseard ith henoure wounonthioneir thondy, y heltieiengerofo'dsssit ey\n",
            "KIN d pe wither vouprrouthercc.\n",
            "hathe; d!\n",
            "My hind tt hinig t ouchos tes; st yo hind wotte grotonear 'so it t jod weancotha:\n",
            "h hay.JUCle n prids, r loncave w hollular s O:\n",
            "HIs; ht anjx?\n",
            "\n",
            "DUThinqunt.\n",
            "\n",
            "LaZAnde.\n",
            "athave l.\n",
            "KEONH:\n",
            "ARThanco be y,-hedarwnoddy scace, tridesar, wnl'shenous s ls, theresseys\n",
            "PlorseelapinghiybHen yof GLUCEN t l-t E:\n",
            "I hisgothers je are!-e!\n",
            "QLYotouciullle'z\n"
          ]
        }
      ]
    },
    {
      "cell_type": "markdown",
      "source": [
        "# Math Trick in self-attention"
      ],
      "metadata": {
        "id": "q43Fw37oOyL0"
      }
    },
    {
      "cell_type": "code",
      "source": [
        "# toy example\n",
        "\n",
        "torch.manual_seed(1337)\n",
        "B,T,C = 4,8,2  #batch, time, channels\n",
        "x = torch.randn(B,T,C)\n",
        "x.shape"
      ],
      "metadata": {
        "colab": {
          "base_uri": "https://localhost:8080/"
        },
        "id": "AexnwYr49xxE",
        "outputId": "ff835719-4c07-408d-bca3-597c31385739"
      },
      "execution_count": null,
      "outputs": [
        {
          "output_type": "execute_result",
          "data": {
            "text/plain": [
              "torch.Size([4, 8, 2])"
            ]
          },
          "metadata": {},
          "execution_count": 17
        }
      ]
    },
    {
      "cell_type": "code",
      "source": [
        "torch.tril(torch.ones(3,3))"
      ],
      "metadata": {
        "colab": {
          "base_uri": "https://localhost:8080/"
        },
        "id": "5_u_hWXtTJHD",
        "outputId": "15fece10-f364-4fd7-dd52-a53a681be98b"
      },
      "execution_count": null,
      "outputs": [
        {
          "output_type": "execute_result",
          "data": {
            "text/plain": [
              "tensor([[1., 0., 0.],\n",
              "        [1., 1., 0.],\n",
              "        [1., 1., 1.]])"
            ]
          },
          "metadata": {},
          "execution_count": 18
        }
      ]
    },
    {
      "cell_type": "code",
      "source": [
        "# sum\n",
        "torch.manual_seed(42)\n",
        "a = torch.tril(torch.ones(3,3))\n",
        "b = torch.randint(0,10,(3,2)).float()\n",
        "c = a @ b\n",
        "print('a=')\n",
        "print(a)\n",
        "print('--')\n",
        "print('b=')\n",
        "print(b)\n",
        "print('--')\n",
        "print('c=')\n",
        "print(c)"
      ],
      "metadata": {
        "colab": {
          "base_uri": "https://localhost:8080/"
        },
        "id": "3IJMdSn7SjQr",
        "outputId": "8e49b870-8c1c-4e3f-e69d-aa346aa1d8c4"
      },
      "execution_count": null,
      "outputs": [
        {
          "output_type": "stream",
          "name": "stdout",
          "text": [
            "a=\n",
            "tensor([[1., 0., 0.],\n",
            "        [1., 1., 0.],\n",
            "        [1., 1., 1.]])\n",
            "--\n",
            "b=\n",
            "tensor([[2., 7.],\n",
            "        [6., 4.],\n",
            "        [6., 5.]])\n",
            "--\n",
            "c=\n",
            "tensor([[ 2.,  7.],\n",
            "        [ 8., 11.],\n",
            "        [14., 16.]])\n"
          ]
        }
      ]
    },
    {
      "cell_type": "code",
      "source": [
        "# toy example illustrating how matrix multiplication can be used for a \"weighted aggregation\"\n",
        "torch.manual_seed(42)\n",
        "a = torch.tril(torch.ones(3, 3))\n",
        "a = a / torch.sum(a, 1, keepdim=True)\n",
        "b = torch.randint(0,10,(3,2)).float()\n",
        "c = a @ b\n",
        "print('a=')\n",
        "print(a)\n",
        "print('--')\n",
        "print('b=')\n",
        "print(b)\n",
        "print('--')\n",
        "print('c=')\n",
        "print(c)"
      ],
      "metadata": {
        "colab": {
          "base_uri": "https://localhost:8080/"
        },
        "id": "FvE5MgFERMvs",
        "outputId": "3a2eba0b-9d65-49ac-ac07-6ce3d445d68a"
      },
      "execution_count": null,
      "outputs": [
        {
          "output_type": "stream",
          "name": "stdout",
          "text": [
            "a=\n",
            "tensor([[1.0000, 0.0000, 0.0000],\n",
            "        [0.5000, 0.5000, 0.0000],\n",
            "        [0.3333, 0.3333, 0.3333]])\n",
            "--\n",
            "b=\n",
            "tensor([[2., 7.],\n",
            "        [6., 4.],\n",
            "        [6., 5.]])\n",
            "--\n",
            "c=\n",
            "tensor([[2.0000, 7.0000],\n",
            "        [4.0000, 5.5000],\n",
            "        [4.6667, 5.3333]])\n"
          ]
        }
      ]
    },
    {
      "cell_type": "markdown",
      "source": [
        "### Version 1: slow loops"
      ],
      "metadata": {
        "id": "QpsnQcamWOrc"
      }
    },
    {
      "cell_type": "code",
      "source": [
        " # we want x[b, t] = mean_{i<=t} x[b, i]\n",
        "xbow = torch.zeros((B, T, C))  # bag of words is synonymous with averaging\n",
        "for b in range(B):\n",
        "    for t in range(T):\n",
        "        xprev = x[b, :t+1]  # (t, C)\n",
        "        xbow[b, t] = torch.mean(xprev, 0)"
      ],
      "metadata": {
        "id": "wYYZ7CUiPRJl"
      },
      "execution_count": null,
      "outputs": []
    },
    {
      "cell_type": "markdown",
      "source": [
        "### Version 2: weakest aggregation - average with matmul"
      ],
      "metadata": {
        "id": "Mztb4_JnWR89"
      }
    },
    {
      "cell_type": "code",
      "source": [
        "wei = torch.tril(torch.ones(T, T))\n",
        "wei = wei / wei.sum(1, keepdim=True)\n",
        "wei"
      ],
      "metadata": {
        "colab": {
          "base_uri": "https://localhost:8080/"
        },
        "id": "cZE1LGvaU_N7",
        "outputId": "70ef359c-ca3f-418a-e4e4-cae46e72f26c"
      },
      "execution_count": null,
      "outputs": [
        {
          "output_type": "execute_result",
          "data": {
            "text/plain": [
              "tensor([[1.0000, 0.0000, 0.0000, 0.0000, 0.0000, 0.0000, 0.0000, 0.0000],\n",
              "        [0.5000, 0.5000, 0.0000, 0.0000, 0.0000, 0.0000, 0.0000, 0.0000],\n",
              "        [0.3333, 0.3333, 0.3333, 0.0000, 0.0000, 0.0000, 0.0000, 0.0000],\n",
              "        [0.2500, 0.2500, 0.2500, 0.2500, 0.0000, 0.0000, 0.0000, 0.0000],\n",
              "        [0.2000, 0.2000, 0.2000, 0.2000, 0.2000, 0.0000, 0.0000, 0.0000],\n",
              "        [0.1667, 0.1667, 0.1667, 0.1667, 0.1667, 0.1667, 0.0000, 0.0000],\n",
              "        [0.1429, 0.1429, 0.1429, 0.1429, 0.1429, 0.1429, 0.1429, 0.0000],\n",
              "        [0.1250, 0.1250, 0.1250, 0.1250, 0.1250, 0.1250, 0.1250, 0.1250]])"
            ]
          },
          "metadata": {},
          "execution_count": 22
        }
      ]
    },
    {
      "cell_type": "code",
      "source": [
        "xbow2 = wei @ x # (T, T) @ (B, T, C) PyT will create a batched mul --> (B,T,T)@(B,T,C) --> (B,T,C)\n",
        "torch.allclose(xbow, xbow2)  # average by slow loops == avg by fast mat mul"
      ],
      "metadata": {
        "colab": {
          "base_uri": "https://localhost:8080/"
        },
        "id": "ZJML-j3uVWBK",
        "outputId": "b2913cfa-f025-42e5-90fa-26a3827362e2"
      },
      "execution_count": null,
      "outputs": [
        {
          "output_type": "execute_result",
          "data": {
            "text/plain": [
              "True"
            ]
          },
          "metadata": {},
          "execution_count": 23
        }
      ]
    },
    {
      "cell_type": "markdown",
      "source": [
        "### Version 3: w/ softmax"
      ],
      "metadata": {
        "id": "Sk9a46_DWagz"
      }
    },
    {
      "cell_type": "code",
      "source": [
        "tril = torch.tril(torch.ones(T, T))\n",
        "wei = torch.zeros((T,T))  # currently zero, but wont be always as token will communicate and form affinities\n",
        "wei = wei.masked_fill(tril == 0, float('-inf'))  # past cant communicate with future\n",
        "wei = F.softmax(wei, dim=-1) # normalise and sum\n",
        "xbow3 = wei @ x\n",
        "torch.allclose(xbow, xbow3)"
      ],
      "metadata": {
        "colab": {
          "base_uri": "https://localhost:8080/"
        },
        "id": "RMA874NPWfnz",
        "outputId": "87d87062-f881-4a6e-f44e-4df595ef43ea"
      },
      "execution_count": null,
      "outputs": [
        {
          "output_type": "execute_result",
          "data": {
            "text/plain": [
              "True"
            ]
          },
          "metadata": {},
          "execution_count": 24
        }
      ]
    },
    {
      "cell_type": "code",
      "source": [
        "tril"
      ],
      "metadata": {
        "colab": {
          "base_uri": "https://localhost:8080/"
        },
        "id": "NenoPrmuUZUW",
        "outputId": "71bf064c-a9bf-48b1-c7a5-d443df9805ef"
      },
      "execution_count": null,
      "outputs": [
        {
          "output_type": "execute_result",
          "data": {
            "text/plain": [
              "tensor([[1., 0., 0., 0., 0., 0., 0., 0.],\n",
              "        [1., 1., 0., 0., 0., 0., 0., 0.],\n",
              "        [1., 1., 1., 0., 0., 0., 0., 0.],\n",
              "        [1., 1., 1., 1., 0., 0., 0., 0.],\n",
              "        [1., 1., 1., 1., 1., 0., 0., 0.],\n",
              "        [1., 1., 1., 1., 1., 1., 0., 0.],\n",
              "        [1., 1., 1., 1., 1., 1., 1., 0.],\n",
              "        [1., 1., 1., 1., 1., 1., 1., 1.]])"
            ]
          },
          "metadata": {},
          "execution_count": 25
        }
      ]
    },
    {
      "cell_type": "code",
      "source": [
        "wei = torch.zeros((T,T))\n",
        "wei = wei.masked_fill(tril == 0, float('-inf'))\n",
        "wei"
      ],
      "metadata": {
        "colab": {
          "base_uri": "https://localhost:8080/"
        },
        "id": "Tqj9PqhQXLOo",
        "outputId": "ba15ce6b-bff4-4e7d-c499-78cda138ef7b"
      },
      "execution_count": null,
      "outputs": [
        {
          "output_type": "execute_result",
          "data": {
            "text/plain": [
              "tensor([[0., -inf, -inf, -inf, -inf, -inf, -inf, -inf],\n",
              "        [0., 0., -inf, -inf, -inf, -inf, -inf, -inf],\n",
              "        [0., 0., 0., -inf, -inf, -inf, -inf, -inf],\n",
              "        [0., 0., 0., 0., -inf, -inf, -inf, -inf],\n",
              "        [0., 0., 0., 0., 0., -inf, -inf, -inf],\n",
              "        [0., 0., 0., 0., 0., 0., -inf, -inf],\n",
              "        [0., 0., 0., 0., 0., 0., 0., -inf],\n",
              "        [0., 0., 0., 0., 0., 0., 0., 0.]])"
            ]
          },
          "metadata": {},
          "execution_count": 26
        }
      ]
    },
    {
      "cell_type": "code",
      "source": [
        "wei = F.softmax(wei, dim=-1)\n",
        "wei"
      ],
      "metadata": {
        "colab": {
          "base_uri": "https://localhost:8080/"
        },
        "id": "87WyIFaKXS2F",
        "outputId": "af3312aa-18c7-4b67-ba5d-fb107ac12120"
      },
      "execution_count": null,
      "outputs": [
        {
          "output_type": "execute_result",
          "data": {
            "text/plain": [
              "tensor([[1.0000, 0.0000, 0.0000, 0.0000, 0.0000, 0.0000, 0.0000, 0.0000],\n",
              "        [0.5000, 0.5000, 0.0000, 0.0000, 0.0000, 0.0000, 0.0000, 0.0000],\n",
              "        [0.3333, 0.3333, 0.3333, 0.0000, 0.0000, 0.0000, 0.0000, 0.0000],\n",
              "        [0.2500, 0.2500, 0.2500, 0.2500, 0.0000, 0.0000, 0.0000, 0.0000],\n",
              "        [0.2000, 0.2000, 0.2000, 0.2000, 0.2000, 0.0000, 0.0000, 0.0000],\n",
              "        [0.1667, 0.1667, 0.1667, 0.1667, 0.1667, 0.1667, 0.0000, 0.0000],\n",
              "        [0.1429, 0.1429, 0.1429, 0.1429, 0.1429, 0.1429, 0.1429, 0.0000],\n",
              "        [0.1250, 0.1250, 0.1250, 0.1250, 0.1250, 0.1250, 0.1250, 0.1250]])"
            ]
          },
          "metadata": {},
          "execution_count": 27
        }
      ]
    },
    {
      "cell_type": "markdown",
      "source": [
        "### Version 4: SELF ATTENTION"
      ],
      "metadata": {
        "id": "ztWJhqJ60C35"
      }
    },
    {
      "cell_type": "markdown",
      "source": [
        "till v3, wei is uniform in a row cause of zero starting mat. We dont want that. Different tokens will find diff token more meaningful, need to be data dependent\n",
        "\n",
        "--> solved by self attention"
      ],
      "metadata": {
        "id": "XFpmMoMo07IB"
      }
    },
    {
      "cell_type": "code",
      "source": [
        "torch.manual_seed(1337)\n",
        "B,T,C = 4,8,32\n",
        "x = torch.randn(B,T,C)\n",
        "\n",
        "# SINGLE HEAD SELF ATTENTION\n",
        "head_size = 16\n",
        "key = nn.Linear(C, head_size, bias=False)\n",
        "query = nn.Linear(C, head_size, bias=False)\n",
        "value = nn.Linear(C, head_size, bias=False)\n",
        "k = key(x)   # (B,T,16)\n",
        "q = query(x)  # (B,T,16)\n",
        "\n",
        "wei = q @ k.transpose(-2, -1) # (B,T,16) @ (B,16,T) --> (B,T,T)\n",
        "\n",
        "tril = torch.tril(torch.ones(T, T))\n",
        "# wei = torch.zeros((T,T))\n",
        "wei = wei.masked_fill(tril == 0, float('-inf'))  # decoder, not used when its fine for tokens to look at future token like in sentiment analysis\n",
        "wei = F.softmax(wei, dim=-1)\n",
        "\n",
        "v = value(x)\n",
        "out = wei @ v\n",
        "\n",
        "out.shape"
      ],
      "metadata": {
        "colab": {
          "base_uri": "https://localhost:8080/"
        },
        "id": "6qccqogMXean",
        "outputId": "cabe2f8b-5ec1-40ab-d97b-cdacde191870"
      },
      "execution_count": null,
      "outputs": [
        {
          "output_type": "execute_result",
          "data": {
            "text/plain": [
              "torch.Size([4, 8, 16])"
            ]
          },
          "metadata": {},
          "execution_count": 28
        }
      ]
    },
    {
      "cell_type": "code",
      "source": [
        "wei[0]"
      ],
      "metadata": {
        "colab": {
          "base_uri": "https://localhost:8080/"
        },
        "id": "97FH0KFU0v3k",
        "outputId": "73b824fe-28cf-4519-f20d-bce5d60da062"
      },
      "execution_count": null,
      "outputs": [
        {
          "output_type": "execute_result",
          "data": {
            "text/plain": [
              "tensor([[1.0000, 0.0000, 0.0000, 0.0000, 0.0000, 0.0000, 0.0000, 0.0000],\n",
              "        [0.1574, 0.8426, 0.0000, 0.0000, 0.0000, 0.0000, 0.0000, 0.0000],\n",
              "        [0.2088, 0.1646, 0.6266, 0.0000, 0.0000, 0.0000, 0.0000, 0.0000],\n",
              "        [0.5792, 0.1187, 0.1889, 0.1131, 0.0000, 0.0000, 0.0000, 0.0000],\n",
              "        [0.0294, 0.1052, 0.0469, 0.0276, 0.7909, 0.0000, 0.0000, 0.0000],\n",
              "        [0.0176, 0.2689, 0.0215, 0.0089, 0.6812, 0.0019, 0.0000, 0.0000],\n",
              "        [0.1691, 0.4066, 0.0438, 0.0416, 0.1048, 0.2012, 0.0329, 0.0000],\n",
              "        [0.0210, 0.0843, 0.0555, 0.2297, 0.0573, 0.0709, 0.2423, 0.2391]],\n",
              "       grad_fn=<SelectBackward0>)"
            ]
          },
          "metadata": {},
          "execution_count": 29
        }
      ]
    },
    {
      "cell_type": "markdown",
      "source": [
        "## Notes:\n",
        "- Attention is a **communication mechanism**. Can be seen as nodes in a directed graph looking at each other and aggregating information with a weighted sum from all nodes that point to them, with data-dependent weights.\n",
        "- There is no notion of space. Attention simply acts over a set of vectors. This is why we need to positionally encode tokens.\n",
        "- Each example across batch dimension is of course processed completely independently and never \"talk\" to each other\n",
        "- In an \"encoder\" attention block just delete the single line that does masking with `tril`, allowing all tokens to communicate. This block here is called a \"decoder\" attention block because it has triangular masking, and is usually used in autoregressive settings, like language modeling.\n",
        "- \"self-attention\" just means that the keys and values are produced from the same source as queries. In \"cross-attention\", the queries still get produced from x, but the keys and values come from some other, external source (e.g. an encoder module)\n",
        "- \"Scaled\" attention additional divides `wei` by 1/sqrt(head_size). This makes it so when input Q,K are unit variance, wei will be unit variance too and Softmax will stay diffuse and not saturate too much. Illustration below"
      ],
      "metadata": {
        "id": "WvYTKzXiK2ci"
      }
    },
    {
      "cell_type": "code",
      "source": [
        "# Scaling logic\n",
        "k = torch.randn(B,T,head_size)\n",
        "q = torch.randn(B,T,head_size)\n",
        "wei = q @ k.transpose(-2, -1) * head_size**-0.5"
      ],
      "metadata": {
        "id": "n51Q9f1T5d2l"
      },
      "execution_count": null,
      "outputs": []
    },
    {
      "cell_type": "code",
      "source": [
        "k.var()"
      ],
      "metadata": {
        "colab": {
          "base_uri": "https://localhost:8080/"
        },
        "id": "kzQLLcD7LA1n",
        "outputId": "f451658e-d5af-4904-8ba6-5e9deb54c4e6"
      },
      "execution_count": null,
      "outputs": [
        {
          "output_type": "execute_result",
          "data": {
            "text/plain": [
              "tensor(1.0449)"
            ]
          },
          "metadata": {},
          "execution_count": 31
        }
      ]
    },
    {
      "cell_type": "code",
      "source": [
        "q.var()"
      ],
      "metadata": {
        "colab": {
          "base_uri": "https://localhost:8080/"
        },
        "id": "rppeBhY_LBHQ",
        "outputId": "3c81a077-0100-4296-fc8b-fea9f242af31"
      },
      "execution_count": null,
      "outputs": [
        {
          "output_type": "execute_result",
          "data": {
            "text/plain": [
              "tensor(1.0700)"
            ]
          },
          "metadata": {},
          "execution_count": 32
        }
      ]
    },
    {
      "cell_type": "code",
      "source": [
        "wei.var()"
      ],
      "metadata": {
        "colab": {
          "base_uri": "https://localhost:8080/"
        },
        "id": "caebF52NLBY-",
        "outputId": "3296c8a0-f9ca-475f-801c-6e7a2dc283ec"
      },
      "execution_count": null,
      "outputs": [
        {
          "output_type": "execute_result",
          "data": {
            "text/plain": [
              "tensor(1.0918)"
            ]
          },
          "metadata": {},
          "execution_count": 33
        }
      ]
    },
    {
      "cell_type": "code",
      "source": [
        "# if not scaled\n",
        "k = torch.randn(B,T,head_size)\n",
        "q = torch.randn(B,T,head_size)\n",
        "wei = q @ k.transpose(-2, -1)\n",
        "wei.var()"
      ],
      "metadata": {
        "colab": {
          "base_uri": "https://localhost:8080/"
        },
        "id": "ev0muJ1cLDgm",
        "outputId": "54172652-c46f-46ba-c301-629ef12494eb"
      },
      "execution_count": null,
      "outputs": [
        {
          "output_type": "execute_result",
          "data": {
            "text/plain": [
              "tensor(15.9317)"
            ]
          },
          "metadata": {},
          "execution_count": 34
        }
      ]
    },
    {
      "cell_type": "markdown",
      "source": [
        "### High variance (resulting in many +ve and -ve high values) causes softmax to converge to one hot encoding"
      ],
      "metadata": {
        "id": "VfDNL3i5LVk-"
      }
    },
    {
      "cell_type": "code",
      "source": [
        "torch.softmax(torch.tensor([0.1, -0.2, 0.3, -0.2, 0.5]), dim=-1)"
      ],
      "metadata": {
        "colab": {
          "base_uri": "https://localhost:8080/"
        },
        "id": "ZjJdni0VLVZG",
        "outputId": "a2be7bd2-5151-4200-e70f-e70ab9e2d114"
      },
      "execution_count": null,
      "outputs": [
        {
          "output_type": "execute_result",
          "data": {
            "text/plain": [
              "tensor([0.1925, 0.1426, 0.2351, 0.1426, 0.2872])"
            ]
          },
          "metadata": {},
          "execution_count": 35
        }
      ]
    },
    {
      "cell_type": "code",
      "source": [
        "torch.softmax(torch.tensor([0.1, -0.2, 0.3, -0.2, 0.5])*8, dim=-1) # gets too peaky, converges to one-hot"
      ],
      "metadata": {
        "colab": {
          "base_uri": "https://localhost:8080/"
        },
        "id": "4-1NC2j9LJ4V",
        "outputId": "b9f966ed-baad-4f6c-f233-05d6892f1083"
      },
      "execution_count": null,
      "outputs": [
        {
          "output_type": "execute_result",
          "data": {
            "text/plain": [
              "tensor([0.0326, 0.0030, 0.1615, 0.0030, 0.8000])"
            ]
          },
          "metadata": {},
          "execution_count": 36
        }
      ]
    },
    {
      "cell_type": "markdown",
      "source": [
        "# Layer Norm and Batch Norm"
      ],
      "metadata": {
        "id": "pccTMH_Va32w"
      }
    },
    {
      "cell_type": "code",
      "source": [
        "class LayerNorm1d: # (used to be BatchNorm1d)\n",
        "\n",
        "  def __init__(self, dim, eps=1e-5, momentum=0.1):\n",
        "    self.eps = eps\n",
        "    self.gamma = torch.ones(dim)\n",
        "    self.beta = torch.zeros(dim)\n",
        "\n",
        "  def __call__(self, x):\n",
        "    # calculate the forward pass\n",
        "    xmean = x.mean(1, keepdim=True) # batch mean\n",
        "    xvar = x.var(1, keepdim=True) # batch variance\n",
        "    xhat = (x - xmean) / torch.sqrt(xvar + self.eps) # normalize to unit variance\n",
        "    self.out = self.gamma * xhat + self.beta\n",
        "    return self.out\n",
        "\n",
        "  def parameters(self):\n",
        "    return [self.gamma, self.beta]\n",
        "\n",
        "torch.manual_seed(1337)\n",
        "module = LayerNorm1d(100)\n",
        "x = torch.randn(32, 100) # batch size 32 of 100-dimensional vectors\n",
        "x = module(x)\n",
        "x.shape"
      ],
      "metadata": {
        "colab": {
          "base_uri": "https://localhost:8080/"
        },
        "id": "1-Uy53BrLiiW",
        "outputId": "4c091c19-7b65-4e28-d2ff-76d05df30c2d"
      },
      "execution_count": null,
      "outputs": [
        {
          "output_type": "execute_result",
          "data": {
            "text/plain": [
              "torch.Size([32, 100])"
            ]
          },
          "metadata": {},
          "execution_count": 37
        }
      ]
    },
    {
      "cell_type": "code",
      "source": [
        "x[:,0].mean(), x[:,0].std() # mean,std of one feature across all batch inputs"
      ],
      "metadata": {
        "id": "aPQNf1C7bYxr",
        "outputId": "37cd123e-060b-48c0-9409-a70bb0a0f2c1",
        "colab": {
          "base_uri": "https://localhost:8080/"
        }
      },
      "execution_count": null,
      "outputs": [
        {
          "output_type": "execute_result",
          "data": {
            "text/plain": [
              "(tensor(0.1469), tensor(0.8803))"
            ]
          },
          "metadata": {},
          "execution_count": 38
        }
      ]
    },
    {
      "cell_type": "code",
      "source": [
        "x[0,:].mean(), x[0,:].std() # mean,std of a single input from the batch, of its features"
      ],
      "metadata": {
        "id": "b3WdqyRQbaaJ",
        "outputId": "c2132d85-c288-45e8-b2ea-9e6531f2df1e",
        "colab": {
          "base_uri": "https://localhost:8080/"
        }
      },
      "execution_count": null,
      "outputs": [
        {
          "output_type": "execute_result",
          "data": {
            "text/plain": [
              "(tensor(-9.5367e-09), tensor(1.0000))"
            ]
          },
          "metadata": {},
          "execution_count": 39
        }
      ]
    },
    {
      "cell_type": "markdown",
      "source": [
        "# Attention is all you need has an encoder decoder arch, we only made the decoder arch"
      ],
      "metadata": {
        "id": "ki3RClXUFY4M"
      }
    },
    {
      "cell_type": "code",
      "source": [
        "# French to English translation example:\n",
        "\n",
        "# <--------- ENCODE ------------------><--------------- DECODE ----------------->\n",
        "# les réseaux de neurones sont géniaux! <START> neural networks are awesome!<END>"
      ],
      "metadata": {
        "id": "IFT8XyGKbb1n"
      },
      "execution_count": null,
      "outputs": []
    },
    {
      "cell_type": "markdown",
      "source": [
        "![attention.PNG](data:image/png;base64,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)"
      ],
      "metadata": {
        "id": "ycR7eXGKFgMe"
      }
    },
    {
      "cell_type": "markdown",
      "source": [
        "# Full code"
      ],
      "metadata": {
        "id": "gGcu5fS_Fz90"
      }
    },
    {
      "cell_type": "code",
      "source": [
        "import torch\n",
        "import torch.nn as nn\n",
        "from torch.nn import functional as F\n",
        "\n",
        "# hyperparameters\n",
        "batch_size = 16 # how many independent sequences will we process in parallel?\n",
        "block_size = 32 # what is the maximum context length for predictions?\n",
        "max_iters = 5000\n",
        "eval_interval = 100\n",
        "learning_rate = 1e-3\n",
        "device = 'cuda' if torch.cuda.is_available() else 'cpu'\n",
        "eval_iters = 200\n",
        "n_embd = 64\n",
        "n_head = 4\n",
        "n_layer = 4\n",
        "dropout = 0.0\n",
        "# ------------\n",
        "\n",
        "torch.manual_seed(1337)\n",
        "\n",
        "# wget https://raw.githubusercontent.com/karpathy/char-rnn/master/data/tinyshakespeare/input.txt\n",
        "with open('input.txt', 'r', encoding='utf-8') as f:\n",
        "    text = f.read()\n",
        "\n",
        "# here are all the unique characters that occur in this text\n",
        "chars = sorted(list(set(text)))\n",
        "vocab_size = len(chars)\n",
        "# create a mapping from characters to integers\n",
        "stoi = { ch:i for i,ch in enumerate(chars) }\n",
        "itos = { i:ch for i,ch in enumerate(chars) }\n",
        "encode = lambda s: [stoi[c] for c in s] # encoder: take a string, output a list of integers\n",
        "decode = lambda l: ''.join([itos[i] for i in l]) # decoder: take a list of integers, output a string\n",
        "\n",
        "# Train and test splits\n",
        "data = torch.tensor(encode(text), dtype=torch.long)\n",
        "n = int(0.9*len(data)) # first 90% will be train, rest val\n",
        "train_data = data[:n]\n",
        "val_data = data[n:]\n",
        "\n",
        "# data loading\n",
        "def get_batch(split):\n",
        "    # generate a small batch of data of inputs x and targets y\n",
        "    data = train_data if split == 'train' else val_data\n",
        "    ix = torch.randint(len(data) - block_size, (batch_size,))\n",
        "    x = torch.stack([data[i:i+block_size] for i in ix])\n",
        "    y = torch.stack([data[i+1:i+block_size+1] for i in ix])\n",
        "    x, y = x.to(device), y.to(device)\n",
        "    return x, y\n",
        "\n",
        "@torch.no_grad()\n",
        "def estimate_loss():\n",
        "    out = {}\n",
        "    model.eval()\n",
        "    for split in ['train', 'val']:\n",
        "        losses = torch.zeros(eval_iters)\n",
        "        for k in range(eval_iters):\n",
        "            X, Y = get_batch(split)\n",
        "            logits, loss = model(X, Y)\n",
        "            losses[k] = loss.item()\n",
        "        out[split] = losses.mean()\n",
        "    model.train()\n",
        "    return out\n",
        "\n",
        "class Head(nn.Module):\n",
        "    \"\"\" one head of self-attention \"\"\"\n",
        "\n",
        "    def __init__(self, head_size):\n",
        "        super().__init__()\n",
        "        self.key = nn.Linear(n_embd, head_size, bias=False)\n",
        "        self.query = nn.Linear(n_embd, head_size, bias=False)\n",
        "        self.value = nn.Linear(n_embd, head_size, bias=False)\n",
        "        self.register_buffer('tril', torch.tril(torch.ones(block_size, block_size)))\n",
        "\n",
        "        self.dropout = nn.Dropout(dropout)\n",
        "\n",
        "    def forward(self, x):\n",
        "        B,T,C = x.shape\n",
        "        k = self.key(x)   # (B,T,C)\n",
        "        q = self.query(x) # (B,T,C)\n",
        "        # compute attention scores (\"affinities\")\n",
        "        wei = q @ k.transpose(-2,-1) * C**-0.5 # (B, T, C) @ (B, C, T) -> (B, T, T)\n",
        "        wei = wei.masked_fill(self.tril[:T, :T] == 0, float('-inf')) # (B, T, T)\n",
        "        wei = F.softmax(wei, dim=-1) # (B, T, T)\n",
        "        wei = self.dropout(wei)\n",
        "        # perform the weighted aggregation of the values\n",
        "        v = self.value(x) # (B,T,C)\n",
        "        out = wei @ v # (B, T, T) @ (B, T, C) -> (B, T, C)\n",
        "        return out\n",
        "\n",
        "class MultiHeadAttention(nn.Module):\n",
        "    \"\"\" multiple heads of self-attention in parallel \"\"\"\n",
        "\n",
        "    def __init__(self, num_heads, head_size):\n",
        "        super().__init__()\n",
        "        self.heads = nn.ModuleList([Head(head_size) for _ in range(num_heads)])\n",
        "        self.proj = nn.Linear(n_embd, n_embd)\n",
        "        self.dropout = nn.Dropout(dropout)\n",
        "\n",
        "    def forward(self, x):\n",
        "        out = torch.cat([h(x) for h in self.heads], dim=-1)\n",
        "        out = self.dropout(self.proj(out))\n",
        "        return out\n",
        "\n",
        "class FeedFoward(nn.Module):\n",
        "    \"\"\" a simple linear layer followed by a non-linearity \"\"\"\n",
        "\n",
        "    def __init__(self, n_embd):\n",
        "        super().__init__()\n",
        "        self.net = nn.Sequential(\n",
        "            nn.Linear(n_embd, 4 * n_embd),\n",
        "            nn.ReLU(),\n",
        "            nn.Linear(4 * n_embd, n_embd),\n",
        "            nn.Dropout(dropout),\n",
        "        )\n",
        "\n",
        "    def forward(self, x):\n",
        "        return self.net(x)\n",
        "\n",
        "class Block(nn.Module):\n",
        "    \"\"\" Transformer block: communication followed by computation \"\"\"\n",
        "\n",
        "    def __init__(self, n_embd, n_head):\n",
        "        # n_embd: embedding dimension, n_head: the number of heads we'd like\n",
        "        super().__init__()\n",
        "        head_size = n_embd // n_head\n",
        "        self.sa = MultiHeadAttention(n_head, head_size)\n",
        "        self.ffwd = FeedFoward(n_embd)\n",
        "        self.ln1 = nn.LayerNorm(n_embd)\n",
        "        self.ln2 = nn.LayerNorm(n_embd)\n",
        "\n",
        "    def forward(self, x):\n",
        "        x = x + self.sa(self.ln1(x))\n",
        "        x = x + self.ffwd(self.ln2(x))\n",
        "        return x\n",
        "\n",
        "# super simple bigram model\n",
        "class BigramLanguageModel(nn.Module):\n",
        "\n",
        "    def __init__(self):\n",
        "        super().__init__()\n",
        "        # each token directly reads off the logits for the next token from a lookup table\n",
        "        self.token_embedding_table = nn.Embedding(vocab_size, n_embd)\n",
        "        self.position_embedding_table = nn.Embedding(block_size, n_embd)\n",
        "        self.blocks = nn.Sequential(*[Block(n_embd, n_head=n_head) for _ in range(n_layer)])\n",
        "        self.ln_f = nn.LayerNorm(n_embd) # final layer norm\n",
        "        self.lm_head = nn.Linear(n_embd, vocab_size)\n",
        "\n",
        "    def forward(self, idx, targets=None):\n",
        "        B, T = idx.shape\n",
        "\n",
        "        # idx and targets are both (B,T) tensor of integers\n",
        "        tok_emb = self.token_embedding_table(idx) # (B,T,C)\n",
        "        pos_emb = self.position_embedding_table(torch.arange(T, device=device)) # (T,C)\n",
        "        x = tok_emb + pos_emb # (B,T,C)\n",
        "        x = self.blocks(x) # (B,T,C)\n",
        "        x = self.ln_f(x) # (B,T,C)\n",
        "        logits = self.lm_head(x) # (B,T,vocab_size)\n",
        "\n",
        "        if targets is None:\n",
        "            loss = None\n",
        "        else:\n",
        "            B, T, C = logits.shape\n",
        "            logits = logits.view(B*T, C)\n",
        "            targets = targets.view(B*T)\n",
        "            loss = F.cross_entropy(logits, targets)\n",
        "\n",
        "        return logits, loss\n",
        "\n",
        "    def generate(self, idx, max_new_tokens):\n",
        "        # idx is (B, T) array of indices in the current context\n",
        "        for _ in range(max_new_tokens):\n",
        "            # crop idx to the last block_size tokens\n",
        "            idx_cond = idx[:, -block_size:]\n",
        "            # get the predictions\n",
        "            logits, loss = self(idx_cond)\n",
        "            # focus only on the last time step\n",
        "            logits = logits[:, -1, :] # becomes (B, C)\n",
        "            # apply softmax to get probabilities\n",
        "            probs = F.softmax(logits, dim=-1) # (B, C)\n",
        "            # sample from the distribution\n",
        "            idx_next = torch.multinomial(probs, num_samples=1) # (B, 1)\n",
        "            # append sampled index to the running sequence\n",
        "            idx = torch.cat((idx, idx_next), dim=1) # (B, T+1)\n",
        "        return idx\n",
        "\n",
        "model = BigramLanguageModel()\n",
        "m = model.to(device)\n",
        "# print the number of parameters in the model\n",
        "print(sum(p.numel() for p in m.parameters())/1e6, 'M parameters')\n",
        "\n",
        "# create a PyTorch optimizer\n",
        "optimizer = torch.optim.AdamW(model.parameters(), lr=learning_rate)\n",
        "\n",
        "for iter in range(max_iters):\n",
        "\n",
        "    # every once in a while evaluate the loss on train and val sets\n",
        "    if iter % eval_interval == 0 or iter == max_iters - 1:\n",
        "        losses = estimate_loss()\n",
        "        print(f\"step {iter}: train loss {losses['train']:.4f}, val loss {losses['val']:.4f}\")\n",
        "\n",
        "    # sample a batch of data\n",
        "    xb, yb = get_batch('train')\n",
        "\n",
        "    # evaluate the loss\n",
        "    logits, loss = model(xb, yb)\n",
        "    optimizer.zero_grad(set_to_none=True)\n",
        "    loss.backward()\n",
        "    optimizer.step()\n",
        "\n",
        "# generate from the model\n",
        "context = torch.zeros((1, 1), dtype=torch.long, device=device)\n",
        "print(decode(m.generate(context, max_new_tokens=2000)[0].tolist()))\n"
      ],
      "metadata": {
        "id": "q3YZTzyKF1rK"
      },
      "execution_count": null,
      "outputs": []
    }
  ]
}